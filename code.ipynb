{
  "cells": [
    {
      "cell_type": "code",
      "source": [
        "# ==============================================================================\n",
        "# CELL 1: SETUP AND VERIFICATION\n",
        "# ==============================================================================\n",
        "\n",
        "# Step 1.1: Import Libraries\n",
        "import pandas as pd\n",
        "import numpy as np\n",
        "import json\n",
        "import os\n",
        "import matplotlib.pyplot as plt\n",
        "import seaborn as sns\n",
        "import tensorflow as tf\n",
        "from google.colab import drive\n",
        "from sklearn.model_selection import train_test_split\n",
        "from tensorflow.keras.layers import GlobalAveragePooling2D, Dense, Dropout\n",
        "from tensorflow.keras.models import Model\n",
        "# Import the new, more powerful models\n",
        "from tensorflow.keras.applications import EfficientNetV2B2, ResNet101V2\n",
        "from tensorflow.keras.callbacks import ModelCheckpoint, EarlyStopping, ReduceLROnPlateau\n",
        "\n",
        "# Step 1.2: Force Remount Google Drive for a fresh connection\n",
        "print(\"Attempting to force remount Google Drive...\")\n",
        "drive.mount('/content/drive', force_remount=True)\n",
        "print(\"✅ Drive remounted successfully.\")\n",
        "\n",
        "# Step 1.3: Define and Verify CORRECT File Paths\n",
        "BASE_PATH = '/content/drive/MyDrive/Deepfake/'\n",
        "FAKE_IMG_PATH = os.path.join(BASE_PATH, 'fake_cifake_images/')\n",
        "REAL_IMG_PATH = os.path.join(BASE_PATH, 'real_cifake_images/')\n",
        "TEST_IMG_PATH = os.path.join(BASE_PATH, 'test/')\n",
        "\n",
        "FAKE_JSON_PATH = os.path.join(BASE_PATH, 'fake_cifake_preds.json')\n",
        "REAL_JSON_PATH = os.path.join(BASE_PATH, 'real_cifake_preds.json')\n",
        "\n",
        "# This safety check lists your actual files.\n",
        "print(f\"\\nVerifying contents of the directory: {BASE_PATH}\")\n",
        "!ls -l /content/drive/MyDrive/Deepfake/"
      ],
      "metadata": {
        "colab": {
          "base_uri": "https://localhost:8080/"
        },
        "id": "8Q3AYF7WMjNz",
        "outputId": "c41449ca-cce3-448c-e4a2-a3ea117ba2e7"
      },
      "execution_count": 1,
      "outputs": [
        {
          "output_type": "stream",
          "name": "stdout",
          "text": [
            "Attempting to force remount Google Drive...\n",
            "Mounted at /content/drive\n",
            "✅ Drive remounted successfully.\n",
            "\n",
            "Verifying contents of the directory: /content/drive/MyDrive/Deepfake/\n",
            "total 137\n",
            "drwx------ 2 root root  4096 Oct 19 19:59 fake_cifake_images\n",
            "-rw------- 1 root root 63895 Oct 19 19:55 fake_cifake_preds.json\n",
            "drwx------ 2 root root  4096 Oct 19 19:56 real_cifake_images\n",
            "-rw------- 1 root root 63895 Oct 19 19:55 real_cifake_preds.json\n",
            "drwx------ 2 root root  4096 Oct 19 20:01 test\n"
          ]
        }
      ]
    },
    {
      "cell_type": "code",
      "source": [
        "# ==============================================================================\n",
        "# CELL 2: LOAD, PROCESS, AND ANALYZE DATA\n",
        "# ==============================================================================\n",
        "print(\"Loading and processing datasets for classification...\")\n",
        "try:\n",
        "    df_fake = pd.DataFrame(json.load(open(FAKE_JSON_PATH)))\n",
        "    df_real = pd.DataFrame(json.load(open(REAL_JSON_PATH)))\n",
        "\n",
        "    df_fake = df_fake.rename(columns={'index': 'image_id'})\n",
        "    df_real = df_real.rename(columns={'index': 'image_id'})\n",
        "\n",
        "    df_fake['label'] = 0\n",
        "    df_real['label'] = df_real['prediction'].apply(lambda x: 1 if x == 'real' else 0)\n",
        "\n",
        "    df_fake['image_path'] = FAKE_IMG_PATH + df_fake['image_id'].astype(str) + '.png'\n",
        "    df_real['image_path'] = REAL_IMG_PATH + df_real['image_id'].astype(str) + '.png'\n",
        "\n",
        "    df_train = pd.concat([df_fake, df_real], ignore_index=True)\n",
        "\n",
        "    TARGET_COLUMN = 'label'\n",
        "    IMG_SIZE = 224 # ResNet and EfficientNet work well with this size\n",
        "    BATCH_SIZE = 32\n",
        "\n",
        "    print(\"✅✅✅ Successfully loaded and processed datasets!\")\n",
        "    print(f\"\\nConfiguration set: Target='{TARGET_COLUMN}', Image Size={IMG_SIZE}, Batch Size={BATCH_SIZE}\")\n",
        "\n",
        "except Exception as e:\n",
        "    print(f\"❌ An error occurred: {e}\")\n",
        "    raise"
      ],
      "metadata": {
        "colab": {
          "base_uri": "https://localhost:8080/"
        },
        "id": "mI7fHP_vPFkV",
        "outputId": "67a2ae70-471b-4be6-a530-957c2eee50a5"
      },
      "execution_count": 2,
      "outputs": [
        {
          "output_type": "stream",
          "name": "stdout",
          "text": [
            "Loading and processing datasets for classification...\n",
            "✅✅✅ Successfully loaded and processed datasets!\n",
            "\n",
            "Configuration set: Target='label', Image Size=224, Batch Size=32\n"
          ]
        }
      ]
    },
    {
      "cell_type": "code",
      "source": [
        "# ==============================================================================\n",
        "# CELL 3: DATA PIPELINE CREATION\n",
        "# ==============================================================================\n",
        "print(\"Building the Data Pipeline with model-specific preprocessing...\")\n",
        "\n",
        "# We will use this function to create pipelines for each model\n",
        "def create_pipeline(df, preprocessor, is_training=True):\n",
        "    filepaths = df['image_path'].values\n",
        "    labels = df[TARGET_COLUMN].values if TARGET_COLUMN in df.columns else np.zeros(len(df))\n",
        "\n",
        "    dataset = tf.data.Dataset.from_tensor_slices((filepaths, labels))\n",
        "\n",
        "    def parse_function(filename, label):\n",
        "        image_string = tf.io.read_file(filename)\n",
        "        image = tf.image.decode_png(image_string, channels=3)\n",
        "        image = tf.image.resize(image, [IMG_SIZE, IMG_SIZE])\n",
        "        # Apply the model-specific preprocessing\n",
        "        image = preprocessor(image)\n",
        "        return image, label\n",
        "\n",
        "    dataset = dataset.map(parse_function, num_parallel_calls=tf.data.AUTOTUNE)\n",
        "\n",
        "    if is_training:\n",
        "        dataset = dataset.shuffle(buffer_size=1024)\n",
        "\n",
        "    dataset = dataset.batch(BATCH_SIZE)\n",
        "    dataset = dataset.prefetch(buffer_size=tf.data.AUTOTUNE)\n",
        "    return dataset\n",
        "\n",
        "# Split data before creating pipelines\n",
        "train_df, val_df = train_test_split(df_train, test_size=0.15, random_state=42, stratify=df_train[TARGET_COLUMN])\n",
        "\n",
        "print(f\"✅ Data split. Training samples: {len(train_df)}, Validation samples: {len(val_df)}\")"
      ],
      "metadata": {
        "colab": {
          "base_uri": "https://localhost:8080/"
        },
        "id": "m3sY3iZyEWpA",
        "outputId": "4886a0bc-4086-4638-ca44-accf55a1de8d"
      },
      "execution_count": 3,
      "outputs": [
        {
          "output_type": "stream",
          "name": "stdout",
          "text": [
            "Building the Data Pipeline with model-specific preprocessing...\n",
            "✅ Data split. Training samples: 1700, Validation samples: 300\n"
          ]
        }
      ]
    },
    {
      "cell_type": "code",
      "source": [
        "# ==============================================================================\n",
        "# CELL 4: DEFINE MODEL ARCHITECTURES\n",
        "# ==============================================================================\n",
        "print(\"Defining model builder functions...\")\n",
        "\n",
        "# Define a shared head for both models for consistency\n",
        "def build_head(base_model_output):\n",
        "    x = GlobalAveragePooling2D()(base_model_output)\n",
        "    x = Dropout(0.5)(x)\n",
        "    x = Dense(256, activation='relu')(x)\n",
        "    x = Dense(128, activation='relu')(x)\n",
        "    return Dense(1, activation='sigmoid')(x)\n",
        "\n",
        "def build_effnet_model():\n",
        "    inputs = tf.keras.Input(shape=(IMG_SIZE, IMG_SIZE, 3))\n",
        "    base_model = EfficientNetV2B2(include_top=False, weights='imagenet', input_tensor=inputs)\n",
        "    base_model.trainable = False\n",
        "    outputs = build_head(base_model.output)\n",
        "    model = Model(inputs, outputs)\n",
        "    return model\n",
        "\n",
        "def build_resnet_model():\n",
        "    inputs = tf.keras.Input(shape=(IMG_SIZE, IMG_SIZE, 3))\n",
        "    base_model = ResNet101V2(include_top=False, weights='imagenet', input_tensor=inputs)\n",
        "    base_model.trainable = False\n",
        "    outputs = build_head(base_model.output)\n",
        "    model = Model(inputs, outputs)\n",
        "    return model\n",
        "\n",
        "print(\"✅ Model builders are ready.\")"
      ],
      "metadata": {
        "colab": {
          "base_uri": "https://localhost:8080/"
        },
        "id": "W33C2ajwEbB4",
        "outputId": "5efacf95-a936-4626-c854-fcf3437193be"
      },
      "execution_count": 4,
      "outputs": [
        {
          "output_type": "stream",
          "name": "stdout",
          "text": [
            "Defining model builder functions...\n",
            "✅ Model builders are ready.\n"
          ]
        }
      ]
    },
    {
      "cell_type": "code",
      "source": [
        "# ==============================================================================\n",
        "# CELL 5: TRAIN MODEL 1 - EFFICIENTNETV2B2\n",
        "# ==============================================================================\n",
        "print(\"--- Starting Experiment 1: Training EfficientNetV2B2 ---\")\n",
        "\n",
        "# 1. Create the specific data pipeline for this model\n",
        "effnet_preprocessor = tf.keras.applications.efficientnet_v2.preprocess_input\n",
        "train_ds_effnet = create_pipeline(train_df, effnet_preprocessor)\n",
        "val_ds_effnet = create_pipeline(val_df, effnet_preprocessor, is_training=False)\n",
        "\n",
        "# 2. Build the model\n",
        "effnet_model = build_effnet_model()\n",
        "\n",
        "# 3. Compile for Phase 1\n",
        "effnet_model.compile(optimizer=tf.keras.optimizers.Adam(learning_rate=0.001),\n",
        "                     loss='binary_crossentropy', metrics=['accuracy'])\n",
        "\n",
        "# 4. Define callbacks\n",
        "callbacks_effnet = [\n",
        "    ModelCheckpoint('best_effnet_model.keras', monitor='val_accuracy', save_best_only=True, mode='max'),\n",
        "    EarlyStopping(monitor='val_loss', patience=10, restore_best_weights=True),\n",
        "    ReduceLROnPlateau(monitor='val_loss', factor=0.5, patience=3, min_lr=1e-6)\n",
        "]\n",
        "\n",
        "# 5. Train Phase 1\n",
        "print(\"\\n--- Training Phase 1 (Head) ---\")\n",
        "history_effnet_1 = effnet_model.fit(train_ds_effnet, epochs=30, validation_data=val_ds_effnet, callbacks=callbacks_effnet)\n",
        "\n",
        "# 6. Train Phase 2 (Fine-Tuning)\n",
        "print(\"\\n--- Training Phase 2 (Fine-Tuning) ---\")\n",
        "effnet_model.trainable = True\n",
        "effnet_model.compile(optimizer=tf.keras.optimizers.Adam(learning_rate=1e-5),\n",
        "                     loss='binary_crossentropy', metrics=['accuracy'])\n",
        "history_effnet_2 = effnet_model.fit(train_ds_effnet, epochs=30, validation_data=val_ds_effnet,\n",
        "                                    callbacks=callbacks_effnet, initial_epoch=history_effnet_1.epoch[-1] + 1)\n",
        "\n",
        "print(\"✅ EfficientNetV2B2 training complete.\")"
      ],
      "metadata": {
        "colab": {
          "base_uri": "https://localhost:8080/"
        },
        "id": "MXDwp4EKCbIl",
        "outputId": "4baa6441-6c9e-413b-d02c-c6f907d22b51"
      },
      "execution_count": null,
      "outputs": [
        {
          "output_type": "stream",
          "name": "stdout",
          "text": [
            "--- Starting Experiment: Training EfficientNetV2B2 with Gradual Unfreezing ---\n",
            "\n",
            "--- Training Phase 1 (Head) ---\n",
            "Epoch 1/30\n"
          ]
        }
      ]
    },
    {
      "cell_type": "code",
      "source": [
        "# ==============================================================================\n",
        "# CELL 6: TRAIN MODEL 2 - RESNET101V2\n",
        "# ==============================================================================\n",
        "print(\"\\n\\n--- Starting Experiment 2: Training ResNet101V2 ---\")\n",
        "\n",
        "# 1. Create the specific data pipeline for this model\n",
        "resnet_preprocessor = tf.keras.applications.resnet_v2.preprocess_input\n",
        "train_ds_resnet = create_pipeline(train_df, resnet_preprocessor)\n",
        "val_ds_resnet = create_pipeline(val_df, resnet_preprocessor, is_training=False)\n",
        "\n",
        "# 2. Build the model\n",
        "resnet_model = build_resnet_model()\n",
        "\n",
        "# 3. Compile for Phase 1\n",
        "resnet_model.compile(optimizer=tf.keras.optimizers.Adam(learning_rate=0.001),\n",
        "                     loss='binary_crossentropy', metrics=['accuracy'])\n",
        "\n",
        "# 4. Define callbacks\n",
        "callbacks_resnet = [\n",
        "    ModelCheckpoint('best_resnet_model.keras', monitor='val_accuracy', save_best_only=True, mode='max'),\n",
        "    EarlyStopping(monitor='val_loss', patience=10, restore_best_weights=True),\n",
        "    ReduceLROnPlateau(monitor='val_loss', factor=0.5, patience=3, min_lr=1e-6)\n",
        "]\n",
        "\n",
        "# 5. Train Phase 1\n",
        "print(\"\\n--- Training Phase 1 (Head) ---\")\n",
        "history_resnet_1 = resnet_model.fit(train_ds_resnet, epochs=30, validation_data=val_ds_resnet, callbacks=callbacks_resnet)\n",
        "\n",
        "# 6. Train Phase 2 (Fine-Tuning)\n",
        "print(\"\\n--- Training Phase 2 (Fine-Tuning) ---\")\n",
        "resnet_model.trainable = True\n",
        "resnet_model.compile(optimizer=tf.keras.optimizers.Adam(learning_rate=1e-5),\n",
        "                     loss='binary_crossentropy', metrics=['accuracy'])\n",
        "history_resnet_2 = resnet_model.fit(train_ds_resnet, epochs=30, validation_data=val_ds_resnet,\n",
        "                                    callbacks=callbacks_resnet, initial_epoch=history_resnet_1.epoch[-1] + 1)\n",
        "\n",
        "print(\"✅ ResNet101V2 training complete.\")"
      ],
      "metadata": {
        "colab": {
          "base_uri": "https://localhost:8080/"
        },
        "id": "dNAHf8HrEjA4",
        "outputId": "7f459d6d-8697-43cb-cee6-921845775c79"
      },
      "execution_count": 6,
      "outputs": [
        {
          "output_type": "stream",
          "name": "stdout",
          "text": [
            "\n",
            "\n",
            "--- Starting Experiment 2: Training ResNet101V2 ---\n",
            "Downloading data from https://storage.googleapis.com/tensorflow/keras-applications/resnet/resnet101v2_weights_tf_dim_ordering_tf_kernels_notop.h5\n",
            "\u001b[1m171317808/171317808\u001b[0m \u001b[32m━━━━━━━━━━━━━━━━━━━━\u001b[0m\u001b[37m\u001b[0m \u001b[1m1s\u001b[0m 0us/step\n",
            "\n",
            "--- Training Phase 1 (Head) ---\n",
            "Epoch 1/30\n",
            "\u001b[1m54/54\u001b[0m \u001b[32m━━━━━━━━━━━━━━━━━━━━\u001b[0m\u001b[37m\u001b[0m \u001b[1m364s\u001b[0m 4s/step - accuracy: 0.6222 - loss: 0.6930 - val_accuracy: 0.7933 - val_loss: 0.4640 - learning_rate: 0.0010\n",
            "Epoch 2/30\n",
            "\u001b[1m54/54\u001b[0m \u001b[32m━━━━━━━━━━━━━━━━━━━━\u001b[0m\u001b[37m\u001b[0m \u001b[1m12s\u001b[0m 157ms/step - accuracy: 0.7751 - loss: 0.4638 - val_accuracy: 0.7667 - val_loss: 0.4307 - learning_rate: 0.0010\n",
            "Epoch 3/30\n",
            "\u001b[1m54/54\u001b[0m \u001b[32m━━━━━━━━━━━━━━━━━━━━\u001b[0m\u001b[37m\u001b[0m \u001b[1m13s\u001b[0m 181ms/step - accuracy: 0.8142 - loss: 0.3871 - val_accuracy: 0.8167 - val_loss: 0.4393 - learning_rate: 0.0010\n",
            "Epoch 4/30\n",
            "\u001b[1m54/54\u001b[0m \u001b[32m━━━━━━━━━━━━━━━━━━━━\u001b[0m\u001b[37m\u001b[0m \u001b[1m13s\u001b[0m 180ms/step - accuracy: 0.8603 - loss: 0.3173 - val_accuracy: 0.8333 - val_loss: 0.3900 - learning_rate: 0.0010\n",
            "Epoch 5/30\n",
            "\u001b[1m54/54\u001b[0m \u001b[32m━━━━━━━━━━━━━━━━━━━━\u001b[0m\u001b[37m\u001b[0m \u001b[1m11s\u001b[0m 146ms/step - accuracy: 0.8634 - loss: 0.3073 - val_accuracy: 0.8300 - val_loss: 0.3960 - learning_rate: 0.0010\n",
            "Epoch 6/30\n",
            "\u001b[1m54/54\u001b[0m \u001b[32m━━━━━━━━━━━━━━━━━━━━\u001b[0m\u001b[37m\u001b[0m \u001b[1m11s\u001b[0m 151ms/step - accuracy: 0.9013 - loss: 0.2452 - val_accuracy: 0.8200 - val_loss: 0.4226 - learning_rate: 0.0010\n",
            "Epoch 7/30\n",
            "\u001b[1m54/54\u001b[0m \u001b[32m━━━━━━━━━━━━━━━━━━━━\u001b[0m\u001b[37m\u001b[0m \u001b[1m11s\u001b[0m 147ms/step - accuracy: 0.9152 - loss: 0.2216 - val_accuracy: 0.8133 - val_loss: 0.4146 - learning_rate: 0.0010\n",
            "Epoch 8/30\n",
            "\u001b[1m54/54\u001b[0m \u001b[32m━━━━━━━━━━━━━━━━━━━━\u001b[0m\u001b[37m\u001b[0m \u001b[1m11s\u001b[0m 143ms/step - accuracy: 0.9100 - loss: 0.2058 - val_accuracy: 0.8300 - val_loss: 0.4150 - learning_rate: 5.0000e-04\n",
            "Epoch 9/30\n",
            "\u001b[1m54/54\u001b[0m \u001b[32m━━━━━━━━━━━━━━━━━━━━\u001b[0m\u001b[37m\u001b[0m \u001b[1m13s\u001b[0m 171ms/step - accuracy: 0.9224 - loss: 0.1892 - val_accuracy: 0.8400 - val_loss: 0.4163 - learning_rate: 5.0000e-04\n",
            "Epoch 10/30\n",
            "\u001b[1m54/54\u001b[0m \u001b[32m━━━━━━━━━━━━━━━━━━━━\u001b[0m\u001b[37m\u001b[0m \u001b[1m12s\u001b[0m 146ms/step - accuracy: 0.9391 - loss: 0.1473 - val_accuracy: 0.8400 - val_loss: 0.4435 - learning_rate: 5.0000e-04\n",
            "Epoch 11/30\n",
            "\u001b[1m54/54\u001b[0m \u001b[32m━━━━━━━━━━━━━━━━━━━━\u001b[0m\u001b[37m\u001b[0m \u001b[1m11s\u001b[0m 156ms/step - accuracy: 0.9516 - loss: 0.1263 - val_accuracy: 0.8200 - val_loss: 0.4241 - learning_rate: 2.5000e-04\n",
            "Epoch 12/30\n",
            "\u001b[1m54/54\u001b[0m \u001b[32m━━━━━━━━━━━━━━━━━━━━\u001b[0m\u001b[37m\u001b[0m \u001b[1m11s\u001b[0m 155ms/step - accuracy: 0.9395 - loss: 0.1636 - val_accuracy: 0.8233 - val_loss: 0.4147 - learning_rate: 2.5000e-04\n",
            "Epoch 13/30\n",
            "\u001b[1m54/54\u001b[0m \u001b[32m━━━━━━━━━━━━━━━━━━━━\u001b[0m\u001b[37m\u001b[0m \u001b[1m11s\u001b[0m 153ms/step - accuracy: 0.9543 - loss: 0.1259 - val_accuracy: 0.8367 - val_loss: 0.4093 - learning_rate: 2.5000e-04\n",
            "Epoch 14/30\n",
            "\u001b[1m54/54\u001b[0m \u001b[32m━━━━━━━━━━━━━━━━━━━━\u001b[0m\u001b[37m\u001b[0m \u001b[1m13s\u001b[0m 179ms/step - accuracy: 0.9600 - loss: 0.1165 - val_accuracy: 0.8433 - val_loss: 0.4207 - learning_rate: 1.2500e-04\n",
            "\n",
            "--- Training Phase 2 (Fine-Tuning) ---\n",
            "Epoch 15/30\n",
            "\u001b[1m54/54\u001b[0m \u001b[32m━━━━━━━━━━━━━━━━━━━━\u001b[0m\u001b[37m\u001b[0m \u001b[1m45s\u001b[0m 467ms/step - accuracy: 0.8914 - loss: 0.2649 - val_accuracy: 0.8467 - val_loss: 0.3896 - learning_rate: 1.0000e-05\n",
            "Epoch 16/30\n",
            "\u001b[1m54/54\u001b[0m \u001b[32m━━━━━━━━━━━━━━━━━━━━\u001b[0m\u001b[37m\u001b[0m \u001b[1m12s\u001b[0m 163ms/step - accuracy: 0.8873 - loss: 0.2716 - val_accuracy: 0.8400 - val_loss: 0.3892 - learning_rate: 1.0000e-05\n",
            "Epoch 17/30\n",
            "\u001b[1m54/54\u001b[0m \u001b[32m━━━━━━━━━━━━━━━━━━━━\u001b[0m\u001b[37m\u001b[0m \u001b[1m12s\u001b[0m 160ms/step - accuracy: 0.8856 - loss: 0.2686 - val_accuracy: 0.8433 - val_loss: 0.3873 - learning_rate: 1.0000e-05\n",
            "Epoch 18/30\n",
            "\u001b[1m54/54\u001b[0m \u001b[32m━━━━━━━━━━━━━━━━━━━━\u001b[0m\u001b[37m\u001b[0m \u001b[1m20s\u001b[0m 157ms/step - accuracy: 0.9000 - loss: 0.2502 - val_accuracy: 0.8467 - val_loss: 0.3865 - learning_rate: 1.0000e-05\n",
            "Epoch 19/30\n",
            "\u001b[1m54/54\u001b[0m \u001b[32m━━━━━━━━━━━━━━━━━━━━\u001b[0m\u001b[37m\u001b[0m \u001b[1m12s\u001b[0m 156ms/step - accuracy: 0.9082 - loss: 0.2420 - val_accuracy: 0.8433 - val_loss: 0.3853 - learning_rate: 1.0000e-05\n",
            "Epoch 20/30\n",
            "\u001b[1m54/54\u001b[0m \u001b[32m━━━━━━━━━━━━━━━━━━━━\u001b[0m\u001b[37m\u001b[0m \u001b[1m11s\u001b[0m 148ms/step - accuracy: 0.8970 - loss: 0.2473 - val_accuracy: 0.8367 - val_loss: 0.3857 - learning_rate: 1.0000e-05\n",
            "Epoch 21/30\n",
            "\u001b[1m54/54\u001b[0m \u001b[32m━━━━━━━━━━━━━━━━━━━━\u001b[0m\u001b[37m\u001b[0m \u001b[1m12s\u001b[0m 152ms/step - accuracy: 0.8969 - loss: 0.2527 - val_accuracy: 0.8333 - val_loss: 0.3846 - learning_rate: 1.0000e-05\n",
            "Epoch 22/30\n",
            "\u001b[1m54/54\u001b[0m \u001b[32m━━━━━━━━━━━━━━━━━━━━\u001b[0m\u001b[37m\u001b[0m \u001b[1m12s\u001b[0m 158ms/step - accuracy: 0.8931 - loss: 0.2477 - val_accuracy: 0.8367 - val_loss: 0.3843 - learning_rate: 1.0000e-05\n",
            "Epoch 23/30\n",
            "\u001b[1m54/54\u001b[0m \u001b[32m━━━━━━━━━━━━━━━━━━━━\u001b[0m\u001b[37m\u001b[0m \u001b[1m11s\u001b[0m 153ms/step - accuracy: 0.8813 - loss: 0.2681 - val_accuracy: 0.8300 - val_loss: 0.3850 - learning_rate: 1.0000e-05\n",
            "Epoch 24/30\n",
            "\u001b[1m54/54\u001b[0m \u001b[32m━━━━━━━━━━━━━━━━━━━━\u001b[0m\u001b[37m\u001b[0m \u001b[1m11s\u001b[0m 149ms/step - accuracy: 0.8857 - loss: 0.2595 - val_accuracy: 0.8333 - val_loss: 0.3868 - learning_rate: 1.0000e-05\n",
            "Epoch 25/30\n",
            "\u001b[1m54/54\u001b[0m \u001b[32m━━━━━━━━━━━━━━━━━━━━\u001b[0m\u001b[37m\u001b[0m \u001b[1m12s\u001b[0m 175ms/step - accuracy: 0.8958 - loss: 0.2505 - val_accuracy: 0.8300 - val_loss: 0.3865 - learning_rate: 1.0000e-05\n",
            "Epoch 26/30\n",
            "\u001b[1m54/54\u001b[0m \u001b[32m━━━━━━━━━━━━━━━━━━━━\u001b[0m\u001b[37m\u001b[0m \u001b[1m11s\u001b[0m 151ms/step - accuracy: 0.9082 - loss: 0.2367 - val_accuracy: 0.8267 - val_loss: 0.3854 - learning_rate: 5.0000e-06\n",
            "Epoch 27/30\n",
            "\u001b[1m54/54\u001b[0m \u001b[32m━━━━━━━━━━━━━━━━━━━━\u001b[0m\u001b[37m\u001b[0m \u001b[1m11s\u001b[0m 148ms/step - accuracy: 0.9004 - loss: 0.2481 - val_accuracy: 0.8300 - val_loss: 0.3850 - learning_rate: 5.0000e-06\n",
            "Epoch 28/30\n",
            "\u001b[1m54/54\u001b[0m \u001b[32m━━━━━━━━━━━━━━━━━━━━\u001b[0m\u001b[37m\u001b[0m \u001b[1m11s\u001b[0m 147ms/step - accuracy: 0.9056 - loss: 0.2364 - val_accuracy: 0.8300 - val_loss: 0.3855 - learning_rate: 5.0000e-06\n",
            "Epoch 29/30\n",
            "\u001b[1m54/54\u001b[0m \u001b[32m━━━━━━━━━━━━━━━━━━━━\u001b[0m\u001b[37m\u001b[0m \u001b[1m12s\u001b[0m 151ms/step - accuracy: 0.9103 - loss: 0.2297 - val_accuracy: 0.8300 - val_loss: 0.3848 - learning_rate: 2.5000e-06\n",
            "Epoch 30/30\n",
            "\u001b[1m54/54\u001b[0m \u001b[32m━━━━━━━━━━━━━━━━━━━━\u001b[0m\u001b[37m\u001b[0m \u001b[1m11s\u001b[0m 156ms/step - accuracy: 0.8999 - loss: 0.2373 - val_accuracy: 0.8300 - val_loss: 0.3850 - learning_rate: 2.5000e-06\n",
            "✅ ResNet101V2 training complete.\n"
          ]
        }
      ]
    },
    {
      "cell_type": "code",
      "source": [
        "# ==============================================================================\n",
        "# FINAL ENSEMBLE EVALUATION ON VALIDATION SET\n",
        "# ==============================================================================\n",
        "from sklearn.metrics import classification_report, accuracy_score, confusion_matrix\n",
        "import seaborn as sns\n",
        "import matplotlib.pyplot as plt\n",
        "\n",
        "print(\"Starting final evaluation of the ENSEMBLE model on the validation set...\")\n",
        "\n",
        "try:\n",
        "    # 1. Load the best saved models\n",
        "    print(\"Loading best trained models...\")\n",
        "    effnet_model = tf.keras.models.load_model('best_effnet_model.keras')\n",
        "    resnet_model = tf.keras.models.load_model('best_resnet_model.keras')\n",
        "\n",
        "    # 2. Get the true labels from our validation dataframe\n",
        "    true_labels = val_df[TARGET_COLUMN].values\n",
        "\n",
        "    # 3. Generate predictions from both models on the validation set\n",
        "    print(\"Generating validation predictions from Model 1 (EfficientNet)...\")\n",
        "    preds_effnet_val = effnet_model.predict(val_ds_effnet)\n",
        "    print(\"Generating validation predictions from Model 2 (ResNet)...\")\n",
        "    preds_resnet_val = resnet_model.predict(val_ds_resnet)\n",
        "\n",
        "    # 4. Average the predictions to get the final ensemble probability\n",
        "    final_preds_val = (preds_effnet_val + preds_resnet_val) / 2.0\n",
        "    predicted_labels_val = (final_preds_val > 0.5).astype(int).flatten()\n",
        "\n",
        "    # 5. Calculate and Print Final Ensemble Accuracy\n",
        "    accuracy = accuracy_score(true_labels, predicted_labels_val)\n",
        "    print(\"\\n==================================================\")\n",
        "    print(f\"✅ Final ENSEMBLE Validation Accuracy: {accuracy:.4f} ({accuracy:.2%})\")\n",
        "    print(\"==================================================\")\n",
        "\n",
        "    # 6. Print a Detailed Classification Report\n",
        "    print(\"\\n📊 Ensemble Classification Report:\\n\")\n",
        "    print(classification_report(true_labels, predicted_labels_val, target_names=['fake (0)', 'real (1)']))\n",
        "\n",
        "    # 7. Display a Confusion Matrix\n",
        "    print(\"\\nmatrix Ensemble Confusion Matrix:\\n\")\n",
        "    cm = confusion_matrix(true_labels, predicted_labels_val)\n",
        "    plt.figure(figsize=(8, 6))\n",
        "    sns.heatmap(cm, annot=True, fmt='d', cmap='Blues', xticklabels=['fake', 'real'], yticklabels=['fake', 'real'])\n",
        "    plt.xlabel('Predicted Label')\n",
        "    plt.ylabel('True Label')\n",
        "    plt.title('Ensemble Confusion Matrix')\n",
        "    plt.show()\n",
        "\n",
        "except Exception as e:\n",
        "    print(f\"❌ An error occurred during evaluation: {e}\")\n",
        "    raise"
      ],
      "metadata": {
        "colab": {
          "base_uri": "https://localhost:8080/",
          "height": 998
        },
        "id": "0YSslu4kzMZP",
        "outputId": "5cc5d691-deed-4029-d06e-497d91b8fef1"
      },
      "execution_count": 11,
      "outputs": [
        {
          "output_type": "stream",
          "name": "stdout",
          "text": [
            "Starting final evaluation of the ENSEMBLE model on the validation set...\n",
            "Loading best trained models...\n",
            "Generating validation predictions from Model 1 (EfficientNet)...\n",
            "\u001b[1m10/10\u001b[0m \u001b[32m━━━━━━━━━━━━━━━━━━━━\u001b[0m\u001b[37m\u001b[0m \u001b[1m15s\u001b[0m 889ms/step\n",
            "Generating validation predictions from Model 2 (ResNet)...\n",
            "\u001b[1m10/10\u001b[0m \u001b[32m━━━━━━━━━━━━━━━━━━━━\u001b[0m\u001b[37m\u001b[0m \u001b[1m14s\u001b[0m 765ms/step\n",
            "\n",
            "==================================================\n",
            "✅ Final ENSEMBLE Validation Accuracy: 0.9000 (90.00%)\n",
            "==================================================\n",
            "\n",
            "📊 Ensemble Classification Report:\n",
            "\n",
            "              precision    recall  f1-score   support\n",
            "\n",
            "    fake (0)       0.91      0.90      0.90       154\n",
            "    real (1)       0.89      0.90      0.90       146\n",
            "\n",
            "    accuracy                           0.90       300\n",
            "   macro avg       0.90      0.90      0.90       300\n",
            "weighted avg       0.90      0.90      0.90       300\n",
            "\n",
            "\n",
            "matrix Ensemble Confusion Matrix:\n",
            "\n"
          ]
        },
        {
          "output_type": "display_data",
          "data": {
            "text/plain": [
              "<Figure size 800x600 with 2 Axes>"
            ],
            "image/png": "[encoded data removed]"
          },
          "metadata": {}
        }
      ]
    },
    {
      "cell_type": "code",
      "source": [
        "# ==============================================================================\n",
        "# EXPERIMENT: OPTIMIZE ENSEMBLE WEIGHTS\n",
        "# ==============================================================================\n",
        "from sklearn.metrics import accuracy_score\n",
        "\n",
        "print(\"Running Experiment: Optimizing Ensemble Weights...\")\n",
        "\n",
        "# These variables are already in memory from the previous evaluation cell:\n",
        "# - preds_effnet_val (predictions from EfficientNet)\n",
        "# - preds_resnet_val (predictions from ResNet)\n",
        "# - true_labels (the correct 0/1 answers)\n",
        "\n",
        "best_accuracy = 0.0\n",
        "best_weight_effnet = 0.0\n",
        "\n",
        "# We will test weights from 0.0 to 1.0 in small steps\n",
        "for weight in np.arange(0, 1.01, 0.01):\n",
        "    # Calculate the new weighted average\n",
        "    weighted_preds = (preds_effnet_val * weight) + (preds_resnet_val * (1.0 - weight))\n",
        "\n",
        "    # Convert probabilities to final 0/1 predictions\n",
        "    weighted_labels = (weighted_preds > 0.5).astype(int).flatten()\n",
        "\n",
        "    # Calculate accuracy for this specific weight\n",
        "    accuracy = accuracy_score(true_labels, weighted_labels)\n",
        "\n",
        "    # If this weight is the best so far, save it\n",
        "    if accuracy > best_accuracy:\n",
        "        best_accuracy = accuracy\n",
        "        best_weight_effnet = weight\n",
        "\n",
        "print(\"\\n--- Ensemble Optimization Results ---\")\n",
        "print(f\"Optimal Weight for EfficientNet: {best_weight_effnet:.2f}\")\n",
        "print(f\"Optimal Weight for ResNet: {1.0 - best_weight_effnet:.2f}\")\n",
        "print(f\"🔥 New Maximum Validation Accuracy: {best_accuracy:.4f} ({best_accuracy:.2%})\")"
      ],
      "metadata": {
        "colab": {
          "base_uri": "https://localhost:8080/"
        },
        "id": "o4zSWARpTf7u",
        "outputId": "6741b955-9188-4463-f316-33e0f7084b1f"
      },
      "execution_count": 14,
      "outputs": [
        {
          "output_type": "stream",
          "name": "stdout",
          "text": [
            "Running Experiment: Optimizing Ensemble Weights...\n",
            "\n",
            "--- Ensemble Optimization Results ---\n",
            "Optimal Weight for EfficientNet: 0.43\n",
            "Optimal Weight for ResNet: 0.57\n",
            "🔥 New Maximum Validation Accuracy: 0.9033 (90.33%)\n"
          ]
        }
      ]
    },
    {
      "cell_type": "code",
      "source": [
        "# ==============================================================================\n",
        "# FINAL SUBMISSION (Using the 90.33% Champion Model)\n",
        "# ==============================================================================\n",
        "print(\"Generating final ensemble predictions with your BEST OPTIMIZED WEIGHTS...\")\n",
        "\n",
        "# --- These are the optimal weights you found that gave 90.33% accuracy ---\n",
        "OPTIMAL_WEIGHT_EFFNET = 0.43\n",
        "OPTIMAL_WEIGHT_RESNET = 0.57\n",
        "# ------------------------------------------------------------------\n",
        "\n",
        "try:\n",
        "    # 1. Load your best v1 saved models\n",
        "    print(\"Loading best trained models (v1)...\")\n",
        "    effnet_model = tf.keras.models.load_model('best_effnet_model.keras')\n",
        "    resnet_model = tf.keras.models.load_model('best_resnet_model.keras')\n",
        "\n",
        "    # 2. Prepare test data\n",
        "    test_image_files = os.listdir(TEST_IMG_PATH)\n",
        "    df_test = pd.DataFrame({\n",
        "        'image_id': test_image_files,\n",
        "        'image_path': TEST_IMG_PATH + pd.Series(test_image_files),\n",
        "        TARGET_COLUMN: 0\n",
        "    })\n",
        "    test_ds_effnet = create_pipeline(df_test, effnet_preprocessor, is_training=False)\n",
        "    test_ds_resnet = create_pipeline(df_test, resnet_preprocessor, is_training=False)\n",
        "\n",
        "    # 3. Generate predictions\n",
        "    print(\"Generating predictions from Model 1 (EfficientNet)...\")\n",
        "    preds_effnet = effnet_model.predict(test_ds_effnet)\n",
        "    print(\"Generating predictions from Model 2 (ResNet)...\")\n",
        "    preds_resnet = resnet_model.predict(test_ds_resnet)\n",
        "\n",
        "    # 4. Apply your proven 43/57 weighted average\n",
        "    print(f\"Applying optimal weights: {OPTIMAL_WEIGHT_EFFNET*100:.0f}% EffNet, {OPTIMAL_WEIGHT_RESNET*100:.0f}% ResNet\")\n",
        "    final_preds = (preds_effnet * OPTIMAL_WEIGHT_EFFNET) + (preds_resnet * OPTIMAL_WEIGHT_RESNET)\n",
        "\n",
        "    # 5. Create the submission file\n",
        "    predicted_labels = (final_preds > 0.5).astype(int).flatten()\n",
        "    df_test['prediction'] = np.where(predicted_labels == 1, 'real', 'fake')\n",
        "    df_test['index'] = df_test['image_id'].str.replace('.png', '', regex=False).astype(int)\n",
        "\n",
        "    submission_list = df_test[['index', 'prediction']].to_dict(orient='records')\n",
        "    submission_list.sort(key=lambda x: x['index'])\n",
        "\n",
        "    with open('submission_optimized.json', 'w') as f:\n",
        "        json.dump(submission_list, f, indent=4)\n",
        "\n",
        "    print(\"\\n==================================================\")\n",
        "    print(\"🎉 MISSION COMPLETE! 🎉\")\n",
        "    print(\"✅ Optimized ensemble submission.json created successfully!\")\n",
        "    print(\"This file is ready to be submitted to the hackathon. Good luck!\")\n",
        "    print(\"==================================================\")\n",
        "\n",
        "except Exception as e:\n",
        "    print(f\"❌ An error occurred during prediction: {e}\")\n",
        "    raise"
      ],
      "metadata": {
        "id": "xg9EC3-WLx_Z",
        "colab": {
          "base_uri": "https://localhost:8080/"
        },
        "outputId": "92dd4bc7-2993-4139-ae60-b272ec8763e6"
      },
      "execution_count": 16,
      "outputs": [
        {
          "output_type": "stream",
          "name": "stdout",
          "text": [
            "Generating final ensemble predictions with your BEST OPTIMIZED WEIGHTS...\n",
            "Loading best trained models (v1)...\n",
            "Generating predictions from Model 1 (EfficientNet)...\n",
            "\u001b[1m16/16\u001b[0m \u001b[32m━━━━━━━━━━━━━━━━━━━━\u001b[0m\u001b[37m\u001b[0m \u001b[1m35s\u001b[0m 2s/step\n",
            "Generating predictions from Model 2 (ResNet)...\n",
            "\u001b[1m16/16\u001b[0m \u001b[32m━━━━━━━━━━━━━━━━━━━━\u001b[0m\u001b[37m\u001b[0m \u001b[1m17s\u001b[0m 634ms/step\n",
            "Applying optimal weights: 43% EffNet, 57% ResNet\n",
            "\n",
            "==================================================\n",
            "🎉 MISSION COMPLETE! 🎉\n",
            "✅ Optimized ensemble submission.json created successfully!\n",
            "This file is ready to be submitted to the hackathon. Good luck!\n",
            "==================================================\n"
          ]
        }
      ]
    },
    {
      "cell_type": "code",
      "source": [],
      "metadata": {
        "id": "VfDyycWl6Ekf"
      },
      "execution_count": null,
      "outputs": []
    }
  ],
  "metadata": {
    "colab": {
      "provenance": [],
      "gpuType": "T4"
    },
    "kernelspec": {
      "display_name": "Python 3",
      "name": "python3"
    },
    "language_info": {
      "name": "python"
    },
    "accelerator": "GPU"
  },
  "nbformat": 4,
  "nbformat_minor": 0
}